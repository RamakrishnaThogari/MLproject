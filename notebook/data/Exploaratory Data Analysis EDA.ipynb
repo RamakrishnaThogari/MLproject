{
 "cells": [
  {
   "cell_type": "markdown",
   "metadata": {},
   "source": [
    "1. Problem statement (Business problem understanding)\n",
    "    - Find student's performance based on different parameters like Gender, Ethinicity,Parental level of education, Lunch, test preparation,etc."
   ]
  },
  {
   "cell_type": "markdown",
   "metadata": {},
   "source": [
    "2. Data collection \n",
    "    - Dataset consists of 1000 rows and 8 columns"
   ]
  },
  {
   "cell_type": "markdown",
   "metadata": {},
   "source": [
    "2.1 Import the libraries"
   ]
  },
  {
   "cell_type": "code",
   "execution_count": null,
   "metadata": {},
   "outputs": [],
   "source": [
    "import numpy as np\n",
    "import pandas as pd\n",
    "import matplotlib.pyplot as plt\n",
    "import seaborn as sns\n",
    "\n",
    "import warnings\n",
    "warnings.filterwarnings(\"ignore\")"
   ]
  },
  {
   "cell_type": "code",
   "execution_count": null,
   "metadata": {},
   "outputs": [],
   "source": [
    "df = pd.read_csv(\"student.csv\")"
   ]
  },
  {
   "cell_type": "code",
   "execution_count": null,
   "metadata": {},
   "outputs": [],
   "source": [
    "df.head()"
   ]
  },
  {
   "cell_type": "code",
   "execution_count": null,
   "metadata": {},
   "outputs": [],
   "source": [
    "df.shape"
   ]
  },
  {
   "cell_type": "markdown",
   "metadata": {},
   "source": [
    "3. Data Understanding\n",
    "    - check for missing value\n",
    "    - check for duplicates\n",
    "    - check the datatype\n",
    "    - check the unique values\n",
    "    - basic descriptive statistics of the data\n",
    "    - Categories present in categorical columns"
   ]
  },
  {
   "cell_type": "code",
   "execution_count": null,
   "metadata": {},
   "outputs": [],
   "source": [
    "#3.1 Check for missing values\n",
    "\n",
    "df.isnull().sum()"
   ]
  },
  {
   "cell_type": "code",
   "execution_count": null,
   "metadata": {},
   "outputs": [],
   "source": [
    "#3.2 check for duplicates\n",
    "df.duplicated().sum()"
   ]
  },
  {
   "cell_type": "code",
   "execution_count": null,
   "metadata": {},
   "outputs": [],
   "source": [
    "#3.3 check for datatype\n",
    "\n",
    "df.info()"
   ]
  },
  {
   "cell_type": "code",
   "execution_count": null,
   "metadata": {},
   "outputs": [],
   "source": [
    "#3.4 check for number of unique values in each variable\n",
    "\n",
    "df.nunique()"
   ]
  },
  {
   "cell_type": "code",
   "execution_count": null,
   "metadata": {},
   "outputs": [],
   "source": [
    "#3.5 Basic descriptive statistics of data\n",
    "df.describe()"
   ]
  },
  {
   "cell_type": "code",
   "execution_count": null,
   "metadata": {},
   "outputs": [],
   "source": [
    "for i in list(df.keys()):\n",
    "    print(\"Categories in \"+i+\" variable are :\",end =\"    \")\n",
    "    print(df[i].unique())"
   ]
  },
  {
   "cell_type": "code",
   "execution_count": null,
   "metadata": {},
   "outputs": [],
   "source": [
    "numerical_features = [feature for feature in df.columns if df[feature].dtype != \"O\"]\n",
    "categorical_features = [feature for feature in df.columns if df[feature].dtype ==\"O\"]\n",
    "\n",
    "print(\"Number of numerical features = {} & they are: {}\".format(len(numerical_features),numerical_features))\n",
    "print(\"Number of categorical features = {} & they are: {}\".format(len(categorical_features),categorical_features))"
   ]
  },
  {
   "cell_type": "code",
   "execution_count": null,
   "metadata": {},
   "outputs": [],
   "source": [
    "df[\"Total_Score\"] = df[\"math_score\"] + df[\"reading_score\"] + df[\"writing_score\"]\n",
    "df[\"Average_score\"] = df[\"Total_Score\"]/3\n",
    "df.head()"
   ]
  },
  {
   "cell_type": "code",
   "execution_count": null,
   "metadata": {},
   "outputs": [],
   "source": [
    "Reading_full = df[df[\"reading_score\"] == 100][\"Average_score\"].count()\n",
    "Maths_full = df[df[\"math_score\"] == 100][\"Average_score\"].count()\n",
    "Writing_full = df[df[\"writing_score\"] == 100][\"Average_score\"].count()\n",
    "\n",
    "print(\"Students with full marks in Maths:\", Maths_full)\n",
    "print(\"Students with full marks in reading:\", Reading_full)\n",
    "print(\"Students with full marks in writing:\", Writing_full)"
   ]
  },
  {
   "cell_type": "code",
   "execution_count": null,
   "metadata": {},
   "outputs": [],
   "source": [
    "Reading_less = df[df[\"reading_score\"] <= 20][\"Average_score\"].count()\n",
    "Maths_less= df[df[\"math_score\"] <= 20][\"Average_score\"].count()\n",
    "Writing_less = df[df[\"writing_score\"] <= 20][\"Average_score\"].count()\n",
    "\n",
    "print(\"Students with full marks in Maths:\", Maths_less)\n",
    "print(\"Students with full marks in reading:\", Reading_less)\n",
    "print(\"Students with full marks in writing:\", Writing_less)"
   ]
  },
  {
   "cell_type": "code",
   "execution_count": null,
   "metadata": {},
   "outputs": [],
   "source": [
    "fig, axs = plt.subplots(1,2, figsize = (15,7))\n",
    "plt.subplot(121)\n",
    "sns.histplot(df[\"Average_score\"],kde = True,color = \"g\")\n",
    "plt.subplot(122)\n",
    "sns.histplot(x = df[\"Average_score\"],kde = True,hue = df[\"gender\"])\n",
    "plt.show()"
   ]
  },
  {
   "cell_type": "code",
   "execution_count": null,
   "metadata": {},
   "outputs": [],
   "source": [
    "fig, axs = plt.subplots(1,2, figsize = (15,7))\n",
    "plt.subplot(121)\n",
    "sns.histplot(df[\"Total_Score\"],kde = True,color = \"g\")\n",
    "plt.subplot(122)\n",
    "sns.histplot(x = df[\"Total_Score\"],kde = True,hue = df[\"gender\"])\n",
    "plt.show()"
   ]
  },
  {
   "cell_type": "code",
   "execution_count": null,
   "metadata": {},
   "outputs": [],
   "source": [
    "plt.subplots(1,3,figsize = (25,6))\n",
    "plt.subplot(1,3,1)\n",
    "sns.histplot(data = df,x = \"Average_score\",kde = True,hue = \"lunch\")\n",
    "plt.subplot(1,3,2)\n",
    "sns.histplot(data = df[df.gender == \"female\"],x = \"Average_score\",kde = True,hue = \"lunch\")\n",
    "plt.subplot(1,3,3)\n",
    "sns.histplot(data = df[df.gender==\"male\"],x = \"Average_score\",kde = True, hue = \"lunch\")\n",
    "plt.show()"
   ]
  },
  {
   "cell_type": "code",
   "execution_count": null,
   "metadata": {},
   "outputs": [],
   "source": [
    "plt.subplots(1,3,figsize = (25,6))\n",
    "plt.subplot(1,3,1)\n",
    "sns.histplot(data = df, x = \"Average_score\",kde = True,hue = \"parental_level_of_education\")\n",
    "plt.subplot(1,3,2)\n",
    "sns.histplot(data = df[df.gender == \"female\"],x = \"Average_score\",kde = True, hue = \"parental_level_of_education\")\n",
    "plt.subplot(1,3,3)\n",
    "sns.histplot(data = df[df.gender == \"male\"],x = \"Average_score\",kde = True, hue = \"parental_level_of_education\")\n",
    "plt.show()"
   ]
  },
  {
   "cell_type": "code",
   "execution_count": null,
   "metadata": {},
   "outputs": [],
   "source": [
    "plt.subplots(1,3,figsize = (25,6))\n",
    "plt.subplot(1,3,1)\n",
    "sns.histplot(data = df, x = \"Average_score\", kde = True,hue = \"race_ethnicity\")\n",
    "plt.subplot(1,3,2)\n",
    "sns.histplot(data = df[df.gender == \"female\"],x = \"Average_score\",kde = True, hue = \"race_ethnicity\")\n",
    "plt.subplot(1,3,3)\n",
    "sns.histplot(data = df[df.gender == \"male\"],x = \"Average_score\",kde = True, hue = \"race_ethnicity\")\n",
    "plt.show()\n",
    "\n",
    "\n",
    "plt.show()"
   ]
  },
  {
   "cell_type": "code",
   "execution_count": null,
   "metadata": {},
   "outputs": [],
   "source": [
    "plt.figure(figsize=(18,8))\n",
    "plt.subplot(1,4,1)\n",
    "plt.title(\"Math Scores\")\n",
    "sns.violinplot(y = \"math_score\",data = df,color = \"red\",linewidth=3)\n",
    "plt.subplot(1,4,2)\n",
    "plt.title(\"Reading Scores\")\n",
    "sns.violinplot(y = \"reading_score\",data = df,color = \"blue\",linewidth = 3)\n",
    "plt.subplot(1,4,3)\n",
    "plt.title(\"Writing Scores\")\n",
    "sns.violinplot(y =\"writing_score\",data = df,color = \"green\",linewidth=3 )\n",
    "plt.subplot(1,4,4)\n",
    "plt.title(\"Average Scores\")\n",
    "sns.violinplot(y = \"Average_score\",data = df,color = \"yellow\",linewidth=3)\n",
    "plt.show()"
   ]
  },
  {
   "cell_type": "code",
   "execution_count": null,
   "metadata": {},
   "outputs": [],
   "source": [
    "plt.rcParams[\"figure.figsize\"] = (30,12)\n",
    "\n",
    "plt.subplot(1,6,1)\n",
    "size = df[\"gender\"].value_counts()\n",
    "labels = \"Female\",\"Male\"\n",
    "color = [\"violet\",\"green\"]\n",
    "\n",
    "plt.pie(size,colors = color,labels = labels,autopct = \"%0.1f%%\")\n",
    "plt.title(\"Gender\",fontsize = 20)\n",
    "plt.axis(\"off\")\n",
    "\n",
    "plt.subplot(1,6,2)\n",
    "size = df[\"race_ethnicity\"].value_counts()\n",
    "labels = \"group C\",\"group D\",\"group B\",\"group E\",\"group A\"\n",
    "color = [\"red\",\"green\",\"blue\",\"pink\",\"yellow\"]\n",
    "\n",
    "plt.pie(size,colors = color,labels = labels,autopct = \"%0.1f%%\")\n",
    "plt.title(\"Race/Ethnicity\",fontsize = 20)\n",
    "plt.axis(\"off\")\n",
    "plt.show()\n",
    "\n",
    "plt.subplot(1,6,3)\n",
    "size = df[\"lunch\"].value_counts()\n",
    "labels = \"Standard\",\"Reduced\"\n",
    "color = [\"pink\",\"blue\"]\n",
    "\n",
    "plt.pie(size,colors = color,labels = labels,autopct = \"%0.1f%%\")\n",
    "plt.title(\"Lunch\",fontsize = 20)\n",
    "plt.axis(\"off\")\n",
    "plt.show()\n",
    "\n",
    "plt.subplot(1,6,4)\n",
    "size = df[\"test_preparation_course\"].value_counts()\n",
    "labels = 'none', 'completed'\n",
    "color = [\"red\",\"green\"]\n",
    "\n",
    "plt.pie(size,colors = color,labels = labels,autopct = \"%0.1f%%\")\n",
    "plt.title(\"Test preparation course\",fontsize = 20)\n",
    "plt.axis(\"off\")\n",
    "\n",
    "plt.subplot(1,6,5)\n",
    "size = df[\"parental_level_of_education\"].value_counts()\n",
    "labels = 'Some College', \"Associate's Degree\",'High School','Some High School',\"Bachelor's Degree\",\"Master's Degree\"\n",
    "color = [\"red\",\"green\",\"blue\",\"pink\",\"yellow\",\"cyan\"]\n",
    "\n",
    "plt.pie(size,colors = color,labels = labels,autopct = \"%0.1f%%\")\n",
    "plt.title(\"Parental Education\",fontsize = 20)\n",
    "plt.axis(\"off\")\n",
    "\n",
    "plt.tight_layout()\n",
    "plt.grid()\n",
    "plt.show()\n"
   ]
  },
  {
   "cell_type": "code",
   "execution_count": null,
   "metadata": {},
   "outputs": [],
   "source": [
    "f,ax = plt.subplots(1,2,figsize = (20,10))\n",
    "sns.countplot(x = df[\"gender\"],palette=\"bright\",ax = ax[0],saturation = 0.95)\n",
    "for container in ax[0].containers:\n",
    "    ax[0].bar_label(container,color = \"black\",size = 20)\n",
    "\n",
    "plt.pie(x = df[\"gender\"].value_counts(),labels = [\"female\",\"male\"],explode = [0,0.1],shadow = True,autopct = \"%0.2f%%\")\n",
    "plt.show()"
   ]
  },
  {
   "cell_type": "code",
   "execution_count": null,
   "metadata": {},
   "outputs": [],
   "source": [
    "gender_performance = df.groupby(\"gender\")[\"Average_score\"].mean()\n",
    "print(gender_performance)\n",
    "\n",
    "gender_math = df.groupby('gender')[\"math_score\"].mean()\n",
    "print(gender_math)"
   ]
  },
  {
   "cell_type": "code",
   "execution_count": null,
   "metadata": {},
   "outputs": [],
   "source": [
    "plt.figure(figsize = (10,8))\n",
    "\n",
    "X =[\"Total average\",\"Maths average\"]\n",
    "\n",
    "female_score = [gender_performance[0],gender_math[0]]\n",
    "male_score = [gender_performance[1],gender_math[1]]\n",
    "\n",
    "X_axis = np.arange(len(X))\n",
    "\n",
    "plt.bar(X_axis - 0.2,male_score,0.4,label = \"male\")\n",
    "plt.bar(X_axis + 0.2,female_score,0.4,label = \"female\")\n",
    "\n",
    "plt.xticks(X_axis,X)\n",
    "plt.ylabel(\"Marks\")\n",
    "plt.title(\"Total Average Vs Maths Average of both Male and Female\")\n",
    "plt.legend()\n",
    "plt.show()"
   ]
  },
  {
   "cell_type": "code",
   "execution_count": null,
   "metadata": {},
   "outputs": [],
   "source": [
    "f,ax = plt.subplots(1,2,figsize =  (20,10))\n",
    "sns.countplot(x = df[\"race_ethnicity\"],palette= \"bright\",ax = ax[0],saturation = 0.95)\n",
    "for container in ax[0].containers:\n",
    "    ax[0].bar_label(container,color = 'black',size=20)\n",
    "\n",
    "plt.pie(x = df[\"race_ethnicity\"].value_counts(),labels = df[\"race_ethnicity\"].value_counts().index,explode=[0.1,0,0,0,0],autopct=\"%0.1f%%\")\n",
    "plt.show()"
   ]
  },
  {
   "cell_type": "code",
   "execution_count": null,
   "metadata": {},
   "outputs": [],
   "source": [
    "student_race = df.groupby(\"race_ethnicity\")\n",
    "\n",
    "f,ax = plt.subplots(1,3,figsize = (20,8))\n",
    "\n",
    "sns.barplot(x = student_race[\"math_score\"].mean(),y = [\"group A\",\"group B\",\"group C\",\"group D\",\"group E\"],palette=\"mako\",ax = ax[0],saturation = 0.95)\n",
    "ax[0].set_title(\"Maths score\",color =\"black\",size = 10)\n",
    "\n",
    "for container in ax[0].containers:\n",
    "    ax[0].bar_label(container,color =\"black\",size = 10)\n",
    "\n",
    "\n",
    "sns.barplot(x = student_race[\"reading_score\"].mean(),y = [\"group A\",\"group B\",\"group C\",\"group D\",\"group E\"],palette = 'rocket',ax = ax[1],saturation = 0.95)\n",
    "ax[1].set_title(\"Reading score\",color = \"black\",size = 10)\n",
    "\n",
    "for container in ax[1].containers:\n",
    "    ax[1].bar_label(container,color = \"black\",size = 10)\n",
    "\n",
    "sns.barplot(x = student_race[\"writing_score\"].mean(),y = [\"group A\",\"group B\",\"group C\",\"group D\",\"group E\"],palette = \"viridis\",ax = ax[2],saturation = 0.95)\n",
    "ax[2].set_title(\"Writing score\",color = \"black\",size = 10)\n",
    "\n",
    "for container in ax[2].containers:\n",
    "    ax[2].bar_label(container,color = \"black\",size = 10)\n",
    "\n",
    "plt.show()"
   ]
  },
  {
   "cell_type": "code",
   "execution_count": null,
   "metadata": {},
   "outputs": [],
   "source": []
  }
 ],
 "metadata": {
  "kernelspec": {
   "display_name": "Python 3",
   "language": "python",
   "name": "python3"
  },
  "language_info": {
   "codemirror_mode": {
    "name": "ipython",
    "version": 3
   },
   "file_extension": ".py",
   "mimetype": "text/x-python",
   "name": "python",
   "nbconvert_exporter": "python",
   "pygments_lexer": "ipython3",
   "version": "3.8.17"
  },
  "orig_nbformat": 4
 },
 "nbformat": 4,
 "nbformat_minor": 2
}
